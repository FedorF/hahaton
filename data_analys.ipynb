{
 "cells": [
  {
   "cell_type": "code",
   "execution_count": 1,
   "metadata": {},
   "outputs": [],
   "source": [
    "import pandas as pd\n",
    "import seaborn as sns\n",
    "import matplotlib.pyplot as plt\n",
    "import numpy as np\n",
    "import lightgbm as lgb\n",
    "from sklearn.model_selection import cross_val_score, validation_curve, KFold\n"
   ]
  },
  {
   "cell_type": "code",
   "execution_count": 92,
   "metadata": {},
   "outputs": [],
   "source": [
    "train = pd.read_csv('./data/onetwotrip_challenge_train.csv')\n",
    "test = pd.read_csv('./data/onetwotrip_challenge_test.csv')"
   ]
  },
  {
   "cell_type": "code",
   "execution_count": 93,
   "metadata": {},
   "outputs": [],
   "source": [
    "def get_features(df):\n",
    "    df['days_from_last_order'] = np.log(train['field0'] + 1) \n",
    "    df['order_price'] = np.log(df['field1'] / 0.07757136 + 1.10765391 * 10)\n",
    "    df['order_month'] = df['field2']\n",
    "    df['flight_month'] = df['field3']\n",
    "    df['order_num'] = np.log(df['field4'] + 1) #other\n",
    "    df['is_promo'] = df['field5']   \n",
    "       \n",
    "    df['days_to_flight'] = np.log(df['field16'] + 1)\n",
    "    df['week_day'] = df['field18']\n",
    "    df['week_day_flight'] = df['field20']\n",
    "    df['hour'] = df['field11']\n",
    "    df['year'] = df['field21']\n",
    "    df['quarter'] = df['field29']\n",
    "    \n",
    "    df['num_tickets'] = df['field15']\n",
    "    df['num_tickets_baby'] = df['field9']\n",
    "    df['num_tickets_adult'] = df['field24']\n",
    "    df['num_tickets_teen'] = df['field28']\n",
    "    \n",
    "    df['baby_ratio'] = df['num_tickets_baby'] / df['num_tickets']\n",
    "    df['adult_ratio'] = df['num_tickets_adult'] / df['num_tickets']\n",
    "    df['teen_ratio'] = df['num_tickets_teen'] / df['num_tickets']\n",
    "    \n",
    "    df['field12_log'] = np.log(train['field12'] + 1)\n",
    "    df['field13_log'] = np.log(train['field13'] + 1)\n",
    "    df['field14_log'] = np.log(train['field14'] + 1)\n",
    "    df['field17_log'] = np.log(train['field17'] + 1)\n",
    "    df['field22_log'] = np.log(train['field22'] + 1)\n",
    "    df['field25_log'] = np.log(train['field25'] + 1)\n",
    "    df['filed26_log'] = np.log(train['field26'] + 1)    \n",
    "    df['field6_is_zero'] = df['field6'].map(lambda x: int(x == 0))\n",
    "\n",
    "    user_agg_means = df.groupby(['userid'])[features_float].mean().reset_index()\n",
    "    user_agg_means.columns = [x for x in \\\n",
    "                              map(lambda x: x if (x == 'userid') else \\\n",
    "                                  'user_mean_' + x, user_agg_means.columns)]\n",
    "    \n",
    "    user_orders_count = train.groupby(['userid'])['orderid'].count().reset_index()\n",
    "    \n",
    "    user_orders_count.columns = ['userid', 'user_order_count']\n",
    "    df = df.merge(user_agg_means, on='userid').merge(user_orders_count, on='userid')\n",
    "    return df"
   ]
  },
  {
   "cell_type": "code",
   "execution_count": 135,
   "metadata": {},
   "outputs": [],
   "source": [
    "features_float = ['days_from_last_order', 'order_price', 'days_to_flight',\n",
    "                  'num_tickets', 'baby_ratio', 'adult_ratio', 'teen_ratio',\n",
    "                  'field12_log', 'field13_log', 'field14_log', 'field17_log',\n",
    "                  'field22_log', 'field25_log', 'filed26_log']\n",
    "\n",
    "features_cat = ['order_month', 'flight_month', \n",
    "                'week_day_flight', 'week_day', \n",
    "                'year', 'quarter', 'hour',\n",
    "                'field19', 'field23', 'field27']\n",
    "\n",
    "features_binary = ['is_promo', 'field6_is_zero',\n",
    "                   'field10', 'field7', 'field8',\n",
    "                   'indicator_goal21', 'indicator_goal22',\n",
    "                   'indicator_goal23', 'indicator_goal24',\n",
    "                   'indicator_goal25']\n",
    "target = 'goal1'\n",
    "targets = ['goal21', 'goal22', 'goal23', 'goal24', 'goal25', 'goal1']"
   ]
  },
  {
   "cell_type": "code",
   "execution_count": 95,
   "metadata": {},
   "outputs": [],
   "source": [
    "train = get_features(train)"
   ]
  },
  {
   "cell_type": "code",
   "execution_count": 136,
   "metadata": {},
   "outputs": [],
   "source": [
    "from sklearn.model_selection import train_test_split\n",
    "\n",
    "X, y = train[features_float + features_cat + features_binary + ['field6']], train[target]\n",
    "\n",
    "train_X, test_X, train_y, test_y = train_test_split(X, y, test_size=0.2, random_state=42)"
   ]
  },
  {
   "cell_type": "code",
   "execution_count": 156,
   "metadata": {},
   "outputs": [],
   "source": [
    "params =  {'n_estimators': 203,\n",
    "          'boosting_type': 'gbdt',\n",
    "            'class_weight': None,\n",
    "            'colsample_bytree': 0.3811304824216669,\n",
    "            'importance_type': 'split',\n",
    "            'learning_rate': 0.016659893432998896,\n",
    "            'max_depth': 20,\n",
    "            'metric': ['logloss', 'auc'],\n",
    "            'min_child_samples': 12,\n",
    "            'min_child_weight': 0.0036350360157623163,\n",
    "            'min_split_gain': 0.9619961904304549,\n",
    "            'n_jobs': -1,\n",
    "            'num_leaves': 32,\n",
    "            'objective': 'binary',\n",
    "            'reg_alpha': 0.8022751137716411,\n",
    "            'reg_lambda': 0.8186913351852023,\n",
    "            'silent': True,\n",
    "            'subsample': 0.5967826661188248,\n",
    "            'subsample_for_bin': 200000,\n",
    "            'subsample_freq': 14\n",
    "    }\n",
    "\n",
    "model = lgb.LGBMClassifier(**params) "
   ]
  },
  {
   "cell_type": "code",
   "execution_count": 158,
   "metadata": {},
   "outputs": [
    {
     "name": "stdout",
     "output_type": "stream",
     "text": [
      "[0.70171253 0.70134761 0.68947321 0.6859099  0.65768092]\n",
      "score in (0.6711688512479228, 0.7032808165214357)\n"
     ]
    }
   ],
   "source": [
    "# cross validation\n",
    "scores = cross_val_score(model, X, y, scoring='roc_auc', cv=5)\n",
    "print(scores)\n",
    "\n",
    "print(\"score in ({}, {})\" \\\n",
    "      .format(scores.mean() - scores.std(), scores.mean() + scores.std()))"
   ]
  },
  {
   "cell_type": "code",
   "execution_count": 170,
   "metadata": {},
   "outputs": [],
   "source": [
    "params =  {'n_estimators': 300,\n",
    "          'boosting_type': 'gbdt',\n",
    "            'class_weight': None,\n",
    "            'colsample_bytree': 0.3811304824216669,\n",
    "            'importance_type': 'split',\n",
    "            'learning_rate': 0.016659893432998896,\n",
    "            'max_depth': 7,\n",
    "            'metric': ['logloss', 'auc'],\n",
    "            'min_child_samples': 12,\n",
    "            'min_child_weight': 0.0036350360157623163,\n",
    "            'min_split_gain': 0.9619961904304549,\n",
    "            'n_jobs': -1,\n",
    "            'num_leaves': 32,\n",
    "            'objective': 'binary',\n",
    "            'reg_alpha': 0.8022751137716411,\n",
    "            'reg_lambda': 0.8186913351852023,\n",
    "            'silent': True,\n",
    "            'subsample': 0.5967826661188248,\n",
    "            'subsample_for_bin': 200000,\n",
    "            'subsample_freq': 14\n",
    "    }\n",
    "\n",
    "model = lgb.LGBMClassifier(**params) "
   ]
  },
  {
   "cell_type": "code",
   "execution_count": 171,
   "metadata": {},
   "outputs": [
    {
     "name": "stdout",
     "output_type": "stream",
     "text": [
      "[0.70391697 0.70162084 0.68852227 0.68381587 0.66113309]\n",
      "score in (0.6724506408808011, 0.7031529692174936)\n"
     ]
    }
   ],
   "source": [
    "scores = cross_val_score(model, X, y, scoring='roc_auc', cv=5)\n",
    "print(scores)\n",
    "\n",
    "print(\"score in ({}, {})\" \\\n",
    "      .format(scores.mean() - scores.std(), scores.mean() + scores.std()))"
   ]
  },
  {
   "cell_type": "code",
   "execution_count": null,
   "metadata": {},
   "outputs": [],
   "source": []
  },
  {
   "cell_type": "code",
   "execution_count": null,
   "metadata": {},
   "outputs": [],
   "source": []
  },
  {
   "cell_type": "code",
   "execution_count": null,
   "metadata": {},
   "outputs": [],
   "source": []
  },
  {
   "cell_type": "code",
   "execution_count": null,
   "metadata": {},
   "outputs": [],
   "source": []
  },
  {
   "cell_type": "code",
   "execution_count": null,
   "metadata": {},
   "outputs": [],
   "source": []
  },
  {
   "cell_type": "code",
   "execution_count": 159,
   "metadata": {},
   "outputs": [],
   "source": [
    "scores = np.array([])\n",
    "for i in range(10):\n",
    "    fold = KFold(n_splits=5, shuffle=True, random_state=i)\n",
    "    scores_on_this_split = cross_val_score(\n",
    "            estimator=model, X=train_X, y=train_y,\n",
    "            cv=fold, scoring='roc_auc')\n",
    "    scores = np.append(scores, scores_on_this_split)"
   ]
  },
  {
   "cell_type": "code",
   "execution_count": 160,
   "metadata": {},
   "outputs": [
    {
     "data": {
      "text/plain": [
       "array([0.69108615, 0.67993184, 0.68233435, 0.69616152, 0.68155834,\n",
       "       0.68999358, 0.67744002, 0.68763392, 0.68925226, 0.68448002,\n",
       "       0.69509705, 0.67710438, 0.68602952, 0.68837393, 0.68145066,\n",
       "       0.69987275, 0.67254114, 0.68394459, 0.69568884, 0.68327277,\n",
       "       0.68514585, 0.67651918, 0.67502871, 0.70308416, 0.6906283 ,\n",
       "       0.68469669, 0.69285995, 0.6748058 , 0.68446697, 0.69214632,\n",
       "       0.69930635, 0.68126065, 0.68451028, 0.69253593, 0.67687657,\n",
       "       0.66732161, 0.70107218, 0.68140784, 0.67565094, 0.69281425,\n",
       "       0.67895091, 0.68538086, 0.68929943, 0.68282661, 0.68757689,\n",
       "       0.66817754, 0.70165635, 0.67884169, 0.69458388, 0.69025575])"
      ]
     },
     "execution_count": 160,
     "metadata": {},
     "output_type": "execute_result"
    }
   ],
   "source": [
    "scores"
   ]
  },
  {
   "cell_type": "code",
   "execution_count": 161,
   "metadata": {},
   "outputs": [
    {
     "name": "stdout",
     "output_type": "stream",
     "text": [
      "score in (0.6774131296834965, 0.6943043135859376)\n"
     ]
    }
   ],
   "source": [
    "print(\"score in ({}, {})\" \\\n",
    "      .format(scores.mean() - scores.std(), scores.mean() + scores.std()))"
   ]
  },
  {
   "cell_type": "code",
   "execution_count": null,
   "metadata": {},
   "outputs": [],
   "source": []
  },
  {
   "cell_type": "code",
   "execution_count": null,
   "metadata": {},
   "outputs": [],
   "source": []
  },
  {
   "cell_type": "code",
   "execution_count": null,
   "metadata": {},
   "outputs": [],
   "source": []
  },
  {
   "cell_type": "code",
   "execution_count": 120,
   "metadata": {},
   "outputs": [
    {
     "data": {
      "text/plain": [
       "LGBMClassifier(boosting_type='gbdt', class_weight=None, colsample_bytree=1.0,\n",
       "               importance_type='split', learning_rate=0.03, max_depth=7,\n",
       "               min_child_samples=20, min_child_weight=0.001, min_split_gain=0.0,\n",
       "               n_estimators=250, n_jobs=-1, nthread=-1, num_leaves=31,\n",
       "               objective=None, random_state=None, reg_alpha=0.0, reg_lambda=0.0,\n",
       "               silent=True, subsample=1.0, subsample_for_bin=200000,\n",
       "               subsample_freq=0)"
      ]
     },
     "execution_count": 120,
     "metadata": {},
     "output_type": "execute_result"
    }
   ],
   "source": [
    "model.fit(train_X, train_y)"
   ]
  },
  {
   "cell_type": "code",
   "execution_count": 121,
   "metadata": {},
   "outputs": [
    {
     "name": "stdout",
     "output_type": "stream",
     "text": [
      "days_from_last_order : 451\n",
      "order_price : 514\n",
      "days_to_flight : 641\n",
      "num_tickets : 115\n",
      "baby_ratio : 42\n",
      "adult_ratio : 46\n",
      "teen_ratio : 88\n",
      "field12_log : 695\n",
      "field13_log : 390\n",
      "field14_log : 456\n",
      "field17_log : 227\n",
      "field22_log : 397\n",
      "field25_log : 189\n",
      "filed26_log : 272\n",
      "order_month : 269\n",
      "flight_month : 233\n",
      "week_day_flight : 187\n",
      "week_day : 236\n",
      "year : 68\n",
      "quarter : 1\n",
      "hour : 438\n",
      "field19 : 201\n",
      "field23 : 381\n",
      "field27 : 98\n",
      "is_promo : 46\n",
      "field6_is_zero : 40\n",
      "field10 : 129\n",
      "field7 : 23\n",
      "field8 : 34\n",
      "indicator_goal21 : 18\n",
      "indicator_goal22 : 45\n",
      "indicator_goal23 : 71\n",
      "indicator_goal24 : 61\n",
      "indicator_goal25 : 43\n",
      "field6 : 285\n"
     ]
    }
   ],
   "source": [
    "for f, vs in zip(features_float + features_cat + features_binary + ['field6', 'order_num'],\n",
    "                 model.feature_importances_):\n",
    "    print('{} : {}'.format(f, vs))"
   ]
  },
  {
   "cell_type": "code",
   "execution_count": 123,
   "metadata": {},
   "outputs": [
    {
     "data": {
      "text/plain": [
       "<matplotlib.axes._subplots.AxesSubplot at 0x7f8c50934128>"
      ]
     },
     "execution_count": 123,
     "metadata": {},
     "output_type": "execute_result"
    },
    {
     "data": {
      "image/png": "[encoded data removed]",
      "text/plain": [
       "<Figure size 432x288 with 1 Axes>"
      ]
     },
     "metadata": {
      "needs_background": "light"
     },
     "output_type": "display_data"
    }
   ],
   "source": [
    "train['field6'].hist()"
   ]
  },
  {
   "cell_type": "code",
   "execution_count": null,
   "metadata": {},
   "outputs": [],
   "source": []
  },
  {
   "cell_type": "code",
   "execution_count": null,
   "metadata": {},
   "outputs": [],
   "source": []
  },
  {
   "cell_type": "code",
   "execution_count": null,
   "metadata": {},
   "outputs": [],
   "source": []
  },
  {
   "cell_type": "code",
   "execution_count": null,
   "metadata": {},
   "outputs": [],
   "source": []
  },
  {
   "cell_type": "code",
   "execution_count": null,
   "metadata": {},
   "outputs": [],
   "source": []
  },
  {
   "cell_type": "code",
   "execution_count": null,
   "metadata": {},
   "outputs": [],
   "source": []
  },
  {
   "cell_type": "code",
   "execution_count": null,
   "metadata": {},
   "outputs": [],
   "source": []
  },
  {
   "cell_type": "code",
   "execution_count": 90,
   "metadata": {},
   "outputs": [],
   "source": [
    "import numpy as np\n",
    "\n",
    "def plot_targets(feature):\n",
    "  \n",
    "    plt.figure(figsize=(16, 4))\n",
    "    plt.subplot(1, 2, 1)\n",
    "    sns.distplot(train[train[target] == 0][feature].map(lambda x: np.log(x + 1)),kde=False)\n",
    "    plt.grid()\n",
    "    plt.subplot(1, 2, 2)\n",
    "    sns.distplot(train[train[target] == 1][feature].map(lambda x: np.log(x + 1)), color='r',kde=False)\n",
    "    plt.grid()\n",
    "    plt.show();"
   ]
  },
  {
   "cell_type": "code",
   "execution_count": 91,
   "metadata": {},
   "outputs": [],
   "source": [
    "def plot_feature(feature):\n",
    "    n_unique = train[feature].unique().shape[0]\n",
    "    print('-------------------------------------')\n",
    "    print('{} has {} values'.format(feature, n_unique))\n",
    "    \n",
    "    plt.figure(figsize=(16, 4))\n",
    "    plt.subplot(1, 2, 1)\n",
    "    sns.distplot(train[feature])\n",
    "    plt.grid()\n",
    "    plt.subplot(1, 2, 2)\n",
    "    sns.distplot(test[feature], color='r')\n",
    "    plt.grid()\n",
    "    plt.show();"
   ]
  },
  {
   "cell_type": "code",
   "execution_count": null,
   "metadata": {},
   "outputs": [],
   "source": []
  }
 ],
 "metadata": {
  "kernelspec": {
   "display_name": "Python 3",
   "language": "python",
   "name": "python3"
  },
  "language_info": {
   "codemirror_mode": {
    "name": "ipython",
    "version": 3
   },
   "file_extension": ".py",
   "mimetype": "text/x-python",
   "name": "python",
   "nbconvert_exporter": "python",
   "pygments_lexer": "ipython3",
   "version": "3.6.8"
  }
 },
 "nbformat": 4,
 "nbformat_minor": 2
}
